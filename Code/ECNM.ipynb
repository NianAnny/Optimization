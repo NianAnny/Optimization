{
 "cells": [
  {
   "cell_type": "code",
   "execution_count": 2,
   "metadata": {},
   "outputs": [],
   "source": [
    "import numpy as np\n",
    "import scipy.optimize as sp"
   ]
  },
  {
   "cell_type": "code",
   "execution_count": 3,
   "metadata": {},
   "outputs": [
    {
     "name": "stdout",
     "output_type": "stream",
     "text": [
      "[0.33803384 2.98589847]\n"
     ]
    }
   ],
   "source": [
    "def f(x):\n",
    "    return x[0] * np.log(x[0]) + (x[1] - 3)**2\n",
    "\n",
    "def df(x):\n",
    "    return np.array([1 + np.log(x[0]), 2*(x[1] - 3)])\n",
    "\n",
    "def hessian(x):\n",
    "    return np.array([[1/x[0], 0], \n",
    "                     [0, 2]])\n",
    "\n",
    "x0 = np.array([1, 1])\n",
    "tol = 1e-8\n",
    "A = np.array([[3, 1]])\n",
    "b = np.array([4])\n",
    "\n",
    "def ecnewton(f, df, hessian, A, b, x0, tol):\n",
    "    x = x0\n",
    "    \n",
    "    mag = tol + 1\n",
    "    \n",
    "    while mag > tol:\n",
    "        gradf = df(x)\n",
    "        hess = hessian(x)\n",
    "\n",
    "        #KKT system\n",
    "        kkt_matrix = np.block([[hess, A.T],\n",
    "                               [A, np.zeros((A.shape[0], A.shape[0]))]])\n",
    "\n",
    "        kkt_rhs = np.hstack([-gradf, np.zeros(A.shape[0])])\n",
    "\n",
    "        # Solve the KKT system\n",
    "        delta_x_lambda = np.linalg.solve(kkt_matrix, kkt_rhs)\n",
    "        delta_x = delta_x_lambda[:len(x)]\n",
    "\n",
    "        # Update the solution\n",
    "        x_new = x + delta_x\n",
    "\n",
    "        # Check if the stopping criterion is met\n",
    "        if np.linalg.norm(delta_x, np.inf) < tol:\n",
    "            break\n",
    "\n",
    "        x = x_new\n",
    "\n",
    "    return x\n",
    "\n",
    "optimum = ecnewton(f, df, hessian, A, b, x0, tol)\n",
    "print(optimum)"
   ]
  }
 ],
 "metadata": {
  "kernelspec": {
   "display_name": "Python 3",
   "language": "python",
   "name": "python3"
  },
  "language_info": {
   "codemirror_mode": {
    "name": "ipython",
    "version": 3
   },
   "file_extension": ".py",
   "mimetype": "text/x-python",
   "name": "python",
   "nbconvert_exporter": "python",
   "pygments_lexer": "ipython3",
   "version": "3.11.5"
  }
 },
 "nbformat": 4,
 "nbformat_minor": 2
}
