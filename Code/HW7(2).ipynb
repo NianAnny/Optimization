{
 "cells": [
  {
   "cell_type": "code",
   "execution_count": 2,
   "metadata": {},
   "outputs": [],
   "source": [
    "import cvxpy as cp"
   ]
  },
  {
   "cell_type": "code",
   "execution_count": 3,
   "metadata": {},
   "outputs": [
    {
     "name": "stdout",
     "output_type": "stream",
     "text": [
      "\n",
      "Problem 2:\n",
      "(a)\n",
      "Optimal Profit is $10025 with 80 Q75-1 players and 75 Q100-5 players.\n",
      "\n",
      "(b) Shadow Price for Production: 22.142857091709622\n",
      "\n",
      "(c) Shadow Price for Testing: 2.1428571580838383\n",
      "\n",
      "(e)\n",
      "Optimal Profit is $9980 with 71 Q75-1 players and 81 Q100-5 players.\n",
      "25.999999905599857\n",
      "1.847530639627098e-07\n",
      "2.5842544811194416e-08\n",
      "3.000000078947169\n"
     ]
    }
   ],
   "source": [
    "print(\"\\nProblem 2:\")\n",
    "print(\"(a)\")\n",
    "DVD = [\"Q75-1\", \"Q100-5\"]\n",
    "Q = cp.Variable(len(DVD), nonneg=True)\n",
    "con2 = [2*Q[0] + 3*Q[1] <= 385,\n",
    "        Q[0] + 2*Q[1] <=240,\n",
    "        5*Q[0] + 4*Q[1] <=700]\n",
    "prob2 = cp.Problem(cp.Maximize(55*Q[0]+75*Q[1]), con2)\n",
    "prob2.solve()\n",
    "print(f\"Optimal Profit is ${prob2.value:.0f} with {Q[0].value:.0f} {DVD[0]} players and {Q[1].value:.0f} {DVD[1]} players.\")\n",
    "\n",
    "print(f\"\\n(b) Shadow Price for Production: {con2[0].dual_value}\")\n",
    "\n",
    "print(f\"\\n(c) Shadow Price for Testing: {con2[2].dual_value}\")\n",
    "\n",
    "print(\"\\n(e)\")\n",
    "DVD = [\"Q75-1\", \"Q100-5\"]\n",
    "Q = cp.Variable(len(DVD), nonneg=True)\n",
    "con2 = [2*Q[0] + 3*Q[1] <= 385,\n",
    "        Q[0] + 2*Q[1] <=240,\n",
    "        5*Q[0] + 4*Q[1] <=700,\n",
    "        Q[1] - Q[0] >=10]\n",
    "prob2 = cp.Problem(cp.Maximize(55*Q[0]+75*Q[1]), con2)\n",
    "prob2.solve()\n",
    "print(f\"Optimal Profit is ${prob2.value:.0f} with {Q[0].value:.0f} {DVD[0]} players and {Q[1].value:.0f} {DVD[1]} players.\")\n",
    "for i in range(len(con2)):\n",
    "    print(con2[i].dual_value)"
   ]
  }
 ],
 "metadata": {
  "kernelspec": {
   "display_name": "Python 3",
   "language": "python",
   "name": "python3"
  },
  "language_info": {
   "codemirror_mode": {
    "name": "ipython",
    "version": 3
   },
   "file_extension": ".py",
   "mimetype": "text/x-python",
   "name": "python",
   "nbconvert_exporter": "python",
   "pygments_lexer": "ipython3",
   "version": "3.11.5"
  }
 },
 "nbformat": 4,
 "nbformat_minor": 2
}
