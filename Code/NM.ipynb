{
 "cells": [
  {
   "cell_type": "code",
   "execution_count": 14,
   "metadata": {},
   "outputs": [],
   "source": [
    "import numpy as np \n",
    "import scipy.optimize as sp  "
   ]
  },
  {
   "cell_type": "code",
   "execution_count": 17,
   "metadata": {},
   "outputs": [
    {
     "name": "stdout",
     "output_type": "stream",
     "text": [
      "[2.         0.98843898]\n"
     ]
    }
   ],
   "source": [
    "# function to optimize\n",
    "f = lambda x: (x[0]-2)**2 + (x[1]-1)**4\n",
    "\n",
    "# its gradient\n",
    "gradf = lambda x: np.array([2*(x[0]-2),\n",
    "                           4*(x[1]-1)**3])\n",
    "\n",
    "# Define the Hessian for the provided function\n",
    "def hessian_f(x):\n",
    "    return np.array([[2, 0],\n",
    "                     [0, 12*(x[1]-1)**2]])\n",
    "\n",
    "# Newton's method with backtracking line search\n",
    "def newton_method(f, grad_f, hessian_f, x0, tol, alpha, beta):\n",
    "    x = x0\n",
    "    while np.linalg.norm(grad_f(x)) > tol:\n",
    "        # Compute the Newton step and descent direction\n",
    "        H_inv = np.linalg.inv(hessian_f(x))\n",
    "        delta_x = -H_inv.dot(grad_f(x))\n",
    "        t = 1\n",
    "        # Backtracking line search\n",
    "        while f(x + t * delta_x) > f(x) + alpha * t * np.dot(grad_f(x).T, delta_x):\n",
    "            t *= beta\n",
    "        # Update the current point\n",
    "        x = x + t * delta_x\n",
    "    return x\n",
    "\n",
    "# Parameters \n",
    "alpha = 0.3  \n",
    "beta = 0.8   \n",
    "tol = 10**(-5) \n",
    "x0 = np.array([0, 0])  \n",
    "\n",
    "# Run the optimization with the provided function and gradient\n",
    "optimum = newton_method(f, gradf, hessian_f, x0, tol, alpha, beta)\n",
    "print(optimum)\n"
   ]
  }
 ],
 "metadata": {
  "kernelspec": {
   "display_name": "Python 3",
   "language": "python",
   "name": "python3"
  },
  "language_info": {
   "codemirror_mode": {
    "name": "ipython",
    "version": 3
   },
   "file_extension": ".py",
   "mimetype": "text/x-python",
   "name": "python",
   "nbconvert_exporter": "python",
   "pygments_lexer": "ipython3",
   "version": "3.11.5"
  }
 },
 "nbformat": 4,
 "nbformat_minor": 2
}
