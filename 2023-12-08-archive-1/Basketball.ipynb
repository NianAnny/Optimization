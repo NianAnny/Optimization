{
 "cells": [
  {
   "cell_type": "code",
   "execution_count": 18,
   "metadata": {
    "collapsed": false
   },
   "outputs": [
    {
     "name": "stdout",
     "output_type": "stream",
     "text": [
      "Poles manufactured: 373.7499999995797\n",
      "Poles bought: 126.25000000075605\n",
      "Backboards manufactured: 501.000000000031\n",
      "Rims manufactured: 5.150148516166349e-09\n",
      "Rims bought: 499.99999999779845\n",
      "Profit: 10601.250000028638\n",
      "[17.499999999570928, 4.02860533348354e-10, 6.025140701996047e-10, 14.999999999649072, 23.749999999930072, 10.00000000043945]\n"
     ]
    }
   ],
   "source": [
    "import cvxpy as cp\n",
    "\n",
    "P1 = cp.Variable(pos = True)\n",
    "B1 = cp.Variable(pos = True)\n",
    "R1 = cp.Variable(pos = True)\n",
    "P2 = cp.Variable(pos = True)\n",
    "R2 = cp.Variable(pos = True)\n",
    "\n",
    "# objective\n",
    "objective = cp.Maximize(20*P1 + 20*B1 + 5*R1 - 15*P2 - 10*R2)\n",
    "\n",
    "\n",
    "\n",
    "\n",
    "# define constraints\n",
    "constraints = [2*P1 + 2.5*B1 + R1 <= 2000, #dept A\n",
    "               .5*P1 + B1 + 1.5*R1 <= 900, #dept B\n",
    "               P1 + 2*B1 + R1 <= 1500, #dept C\n",
    "               P1 + P2 >= 500, #pole contracts\n",
    "               B1 >= 501, #backboard contracts\n",
    "               R1 + R2 >= 500 #rim contracts\n",
    "]\n",
    "\n",
    "prob = cp.Problem(objective, constraints)\n",
    "\n",
    "result = prob.solve()\n",
    "\n",
    "print(\"Poles manufactured:\",P1.value)\n",
    "print(\"Poles bought:\",P2.value)\n",
    "print(\"Backboards manufactured:\",B1.value)\n",
    "print(\"Rims manufactured:\",R1.value)\n",
    "print(\"Rims bought:\",R2.value)\n",
    "\n",
    "print(\"Profit:\",result)\n",
    "\n",
    "print([constraints[i].dual_value for i in range(len(constraints))])"
   ]
  },
  {
   "cell_type": "code",
   "execution_count": 10,
   "metadata": {
    "collapsed": false
   },
   "outputs": [
    {
     "name": "stdout",
     "output_type": "stream",
     "text": [
      "Offer for Depbt A: 17.49999999882593\n",
      "Offer for Dept B: 2.03929601424146e-10\n",
      "Offer for Dept C: 0.0\n",
      "Offer for Pole contract: -14.999999998063595\n",
      "Offer for Backboard contract: -23.749999997515335\n",
      "Offer for Rim contract: -10.000000000573998\n",
      "Profit: 10624.999999758933\n"
     ]
    }
   ],
   "source": [
    "A = cp.Variable(pos = True)\n",
    "B = cp.Variable(pos = True)\n",
    "C = cp.Variable(pos = True)\n",
    "Cp = cp.Variable(neg = True)\n",
    "Cb = cp.Variable(neg = True)\n",
    "Cr = cp.Variable(neg = True)\n",
    "\n",
    "objective = cp.Minimize(2000*A+900*B+1500*C+500*Cp+500*Cb+500*Cr)\n",
    "\n",
    "constraints = [\n",
    "    2*A + .5*B + C + Cp >= 20,\n",
    "    2.5*A + B + 2*C + Cb >= 20,\n",
    "    A + 1.5*B + C + Cr >= 5,\n",
    "    Cp >= -15,\n",
    "    Cr >= -10\n",
    "]\n",
    "\n",
    "prob = cp.Problem(objective, constraints)\n",
    "\n",
    "result = prob.solve()\n",
    "\n",
    "print(\"Offer for Depbt A:\",A.value)\n",
    "print(\"Offer for Dept B:\",B.value)\n",
    "print(\"Offer for Dept C:\",C.value)\n",
    "print(\"Offer for Pole contract:\",Cp.value)\n",
    "print(\"Offer for Backboard contract:\",Cb.value)\n",
    "print(\"Offer for Rim contract:\",Cr.value)\n",
    "\n",
    "print(\"Profit:\",result)"
   ]
  },
  {
   "cell_type": "code",
   "execution_count": 11,
   "metadata": {
    "collapsed": false
   },
   "outputs": [
    {
     "data": {
      "text/plain": [
       "0.0"
      ]
     },
     "execution_count": 11,
     "metadata": {
     },
     "output_type": "execute_result"
    }
   ],
   "source": [
    "2000 - (2*375+2.5*500)"
   ]
  },
  {
   "cell_type": "code",
   "execution_count": 7,
   "metadata": {
    "collapsed": false
   },
   "outputs": [
    {
     "data": {
      "text/plain": [
       "125"
      ]
     },
     "execution_count": 7,
     "metadata": {
     },
     "output_type": "execute_result"
    }
   ],
   "source": [
    "1500 - (375+500*2)"
   ]
  },
  {
   "cell_type": "code",
   "execution_count": 0,
   "metadata": {
    "collapsed": false
   },
   "outputs": [
   ],
   "source": [
   ]
  }
 ],
 "metadata": {
  "kernelspec": {
   "argv": [
    "/usr/bin/python3",
    "-m",
    "ipykernel",
    "--HistoryManager.enabled=False",
    "--matplotlib=inline",
    "-c",
    "%config InlineBackend.figure_formats = set(['retina'])\nimport matplotlib; matplotlib.rcParams['figure.figsize'] = (12, 7)",
    "-f",
    "{connection_file}"
   ],
   "display_name": "Python 3 (system-wide)",
   "env": {
   },
   "language": "python",
   "metadata": {
    "cocalc": {
     "description": "Python 3 programming language",
     "priority": 100,
     "url": "https://www.python.org/"
    }
   },
   "name": "python3",
   "resource_dir": "/ext/jupyter/kernels/python3"
  }
 },
 "nbformat": 4,
 "nbformat_minor": 4
}