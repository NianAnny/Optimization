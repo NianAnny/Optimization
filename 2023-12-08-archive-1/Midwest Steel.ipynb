{
 "cells": [
  {
   "cell_type": "code",
   "execution_count": 1,
   "metadata": {
    "collapsed": false
   },
   "outputs": [
    {
     "name": "stdout",
     "output_type": "stream",
     "text": [
      "Alloy 1 : 16.392318202629703\n",
      "Alloy 2 : 18.491083896520163\n",
      "Alloy 3 : 10.93278438296058\n",
      "Scrap 1 : 29.99999998607127\n",
      "Scrap 2 : 24.18381353181826\n",
      "Cost: 7086.076818762581\n"
     ]
    }
   ],
   "source": [
    "import cvxpy as cp\n",
    "\n",
    "# set up our table\n",
    "Metals = [\"Alloy 1\",\"Alloy 2\",\"Alloy 3\",\"Scrap 1\",\"Scrap 2\"]\n",
    "cost = [150,120,80,35,20]\n",
    "availability = [50,50,20,30,40]\n",
    "carbon = [1.75,2.45,2.8,3.1,3.5]\n",
    "nickel = [2,3,4,4.5,5.5]\n",
    "chromium = [3.5,.8,1.2,3.9,2.8]\n",
    "strength = [60000,40000,90000,120000,70000]\n",
    "\n",
    "# define decision variable\n",
    "x = cp.Variable(len(Metals))\n",
    "\n",
    "# define total cost\n",
    "totalCost = cp.sum([cost[i]*x[i] for i in range(len(Metals))])\n",
    "\n",
    "# define total for each component\n",
    "totalCarbon = cp.sum([carbon[i]*x[i] for i in range(len(Metals))])\n",
    "totalNickel = cp.sum([nickel[i]*x[i] for i in range(len(Metals))])\n",
    "totalChromium = cp.sum([chromium[i]*x[i] for i in range(len(Metals))])\n",
    "totalStrength = cp.sum([strength[i]*x[i] for i in range(len(Metals))])\n",
    "\n",
    "# define total mass of metal\n",
    "total = cp.sum([x[i] for i in range(len(Metals))])\n",
    "\n",
    "# objective\n",
    "objective = cp.Minimize(totalCost)\n",
    "\n",
    "\n",
    "\n",
    "\n",
    "# define constraints\n",
    "constraints = [total == 100, # total mass is 100\n",
    "               totalStrength <= 80000*total,\n",
    "               totalStrength >= 50000*total,\n",
    "               totalCarbon >= total*2,\n",
    "               totalCarbon <= total*3,\n",
    "               totalNickel <= total*4,\n",
    "               totalChromium >= total*1.3,\n",
    "               totalChromium <= total*2.7, #stop here and then use append and either a list or a loop to add the availability constraints\n",
    "               x[0] <= availability[0],\n",
    "               x[1] <= availability[1],\n",
    "               x[2] <= availability[2],\n",
    "               x[3] <= availability[3],\n",
    "               x[4] <= availability[4]\n",
    "]\n",
    "\n",
    "prob = cp.Problem(objective, constraints)\n",
    "\n",
    "result = prob.solve()\n",
    "\n",
    "[print(Metals[i],\":\",x[i].value) for i in range(len(Metals))]\n",
    "print(\"Cost:\",result)"
   ]
  },
  {
   "cell_type": "code",
   "execution_count": 8,
   "metadata": {
    "collapsed": false
   },
   "outputs": [
    {
     "data": {
      "text/plain": [
       "79999.99988040874"
      ]
     },
     "execution_count": 8,
     "metadata": {
     },
     "output_type": "execute_result"
    }
   ],
   "source": [
    "totalStrength.value/total.value"
   ]
  },
  {
   "cell_type": "code",
   "execution_count": 2,
   "metadata": {
    "collapsed": false
   },
   "outputs": [
    {
     "ename": "SyntaxError",
     "evalue": "invalid syntax. Perhaps you forgot a comma? (927017854.py, line 9)",
     "output_type": "error",
     "traceback": [
      "\u001b[0;36m  Cell \u001b[0;32mIn [2], line 9\u001b[0;36m\u001b[0m\n\u001b[0;31m    minSpace = [Integer(1500), Integer(750), Integer(800), Integer(1000) Integer(100), Integer(1000)]\u001b[0m\n\u001b[0m                                                           ^\u001b[0m\n\u001b[0;31mSyntaxError\u001b[0m\u001b[0;31m:\u001b[0m invalid syntax. Perhaps you forgot a comma?\n"
     ]
    }
   ],
   "source": [
    "#Delaney, Bransn, Jiafeng, Rohan\n",
    "\n",
    "import cvxpy as cp\n",
    "\n",
    "# set up our table\n",
    "Store = [\"Women's\",\"Children\",\"Shoe\",\"Electronic\",\"Jewlry\", \"Book\"]\n",
    "profit = [50, 30, 70, 50, 90, 60]\n",
    "cost = [120, 100, 80, 150, 75, 90]\n",
    "minSpace = [1500, 750, 800, 1000 100, 1000]\n",
    "maxSpace = [6500,5000,3000,4000,5000,4000]\n",
    "\n",
    "\n",
    "# define decision variable\n",
    "x = cp.Variable(len(Store))\n",
    "\n",
    "# define total cost\n",
    "totalCost = cp.sum([cost[i]*x[i] for i in range(len(Store))])\n",
    "\n",
    "#define total profit\n",
    "\n",
    "\n",
    "# define total for each component\n",
    "totalCarbon = cp.sum([carbon[i]*x[i] for i in range(len(Metals))])\n",
    "totalNickel = cp.sum([nickel[i]*x[i] for i in range(len(Metals))])\n",
    "totalChromium = cp.sum([chromium[i]*x[i] for i in range(len(Metals))])\n",
    "totalStrength = cp.sum([strength[i]*x[i] for i in range(len(Metals))])\n",
    "\n",
    "# define total mass of metal\n",
    "total = cp.sum([x[i] for i in range(len(Metals))])\n",
    "\n",
    "# objective\n",
    "objective = cp.Minimize(totalCost)\n",
    "\n",
    "\n",
    "\n",
    "\n",
    "# define constraints\n",
    "constraints = [total == 100, # total mass is 100\n",
    "               totalStrength <= 80000*total,\n",
    "               totalStrength >= 50000*total,\n",
    "               totalCarbon >= total*2,\n",
    "               totalCarbon <= total*3,\n",
    "               totalNickel <= total*4,\n",
    "               totalChromium >= total*1.3,\n",
    "               totalChromium <= total*2.7, #stop here and then use append and either a list or a loop to add the availability constraints\n",
    "               x[0] <= availability[0],\n",
    "               x[1] <= availability[1],\n",
    "               x[2] <= availability[2],\n",
    "               x[3] <= availability[3],\n",
    "               x[4] <= availability[4]\n",
    "]\n",
    "\n",
    "prob = cp.Problem(objective, constraints)\n",
    "\n",
    "result = prob.solve()\n",
    "\n",
    "[print(Metals[i],\":\",x[i].value) for i in range(len(Metals))]\n",
    "print(\"Cost:\",result)"
   ]
  },
  {
   "cell_type": "code",
   "execution_count": 0,
   "metadata": {
    "collapsed": false
   },
   "outputs": [
   ],
   "source": [
    "# Liam, Spencer, Anny, Carissa\n",
    "\n",
    "import cvxpy as cp\n",
    "\n",
    "# set up our table\n",
    "Stores = [\"Womens\",\"Childrens\",\"Shoe\",\"Electronic\",\"Jewelry\", \"Book\"]\n",
    "cost = [120, 100, 80, 150, 75, 90]\n",
    "Profit = [50, 30, 70, 50, 90, 60]\n",
    "minSpace = [1500, 750, 800, 1000, 1000, 1000]\n",
    "maxSpace = [6500, 5000, 3000, 4000, 5000, 4000]\n",
    "\n",
    "# define decision variable\n",
    "x = cp.Variable(len(Stores))\n",
    "\n",
    "# define total cost\n",
    "totalCost = cp.sum([cost[i]*x[i] for i in range(len(Stores))])\n",
    "\n",
    "# define total for each component\n",
    "totalWomens = cp.sum([carbon[i]*x[i] for i in range(len(Metals))])\n",
    "totalNickel = cp.sum([nickel[i]*x[i] for i in range(len(Metals))])\n",
    "totalChromium = cp.sum([chromium[i]*x[i] for i in range(len(Metals))])\n",
    "totalStrength = cp.sum([strength[i]*x[i] for i in range(len(Metals))])\n",
    "\n",
    "# define total mass of metal\n",
    "total = cp.sum([x[i] for i in range(len(Metals))])\n",
    "\n",
    "# objective\n",
    "objective = cp.Minimize(totalCost)\n",
    "\n",
    "\n",
    "\n",
    "\n",
    "# define constraints\n",
    "constraints = [total == 100, # total mass is 100\n",
    "               totalStrength <= 80000*total,\n",
    "               totalStrength >= 50000*total,\n",
    "               totalCarbon >= total*2,\n",
    "               totalCarbon <= total*3,\n",
    "               totalNickel <= total*4,\n",
    "               totalChromium >= total*1.3,\n",
    "               totalChromium <= total*2.7, #stop here and then use append and either a list or a loop to add the availability constraints\n",
    "               x[0] <= availability[0],\n",
    "               x[1] <= availability[1],\n",
    "               x[2] <= availability[2],\n",
    "               x[3] <= availability[3],\n",
    "               x[4] <= availability[4]\n",
    "]\n",
    "\n",
    "prob = cp.Problem(objective, constraints)\n",
    "\n",
    "result = prob.solve()\n",
    "\n",
    "[print(Metals[i],\":\",x[i].value) for i in range(len(Metals))]\n",
    "print(\"Cost:\",result)"
   ]
  },
  {
   "cell_type": "code",
   "execution_count": 0,
   "metadata": {
    "collapsed": false
   },
   "outputs": [
   ],
   "source": [
   ]
  },
  {
   "cell_type": "code",
   "execution_count": 0,
   "metadata": {
    "collapsed": false
   },
   "outputs": [
   ],
   "source": [
   ]
  },
  {
   "cell_type": "code",
   "execution_count": 0,
   "metadata": {
    "collapsed": false
   },
   "outputs": [
   ],
   "source": [
   ]
  },
  {
   "cell_type": "code",
   "execution_count": 10,
   "metadata": {
    "collapsed": false
   },
   "outputs": [
    {
     "name": "stdout",
     "output_type": "stream",
     "text": [
      "Women's : 1500.0000055027128\n",
      "Children's : 2366.666593139623\n",
      "Shoe : 799.9999966887533\n",
      "Electronic : 999.9999955480162\n",
      "Jewelry : 999.9999923245791\n",
      "Book : 999.9999916926433\n",
      "Profit: 401999.9964257086\n"
     ]
    }
   ],
   "source": [
    "# decision variables\n",
    "stores = [\"Women's\",\"Children's\",\"Shoe\",\"Electronic\",\"Jewelry\",\"Book\"]\n",
    "\n",
    "minSpace = [1500,750,800,1000,1000,1000]\n",
    "maxSpace = [6500,5000,3000,4000,5000,4000]\n",
    "cost = [120,100,80,150,75,90]\n",
    "profit = [50,30,70,50,90,60]\n",
    "\n",
    "# define decision variable\n",
    "x = cp.Variable(len(stores))\n",
    "\n",
    "# total sq footage\n",
    "total = cp.sum([x[i] for i in range(len(stores))])\n",
    "\n",
    "# define total cost and profit\n",
    "totalCost = cp.sum([cost[i]*x[i] for i in range(len(stores))])\n",
    "totalProfit = cp.sum([profit[i]*x[i] for i in range(len(stores))])\n",
    "\n",
    "# objective\n",
    "objective = cp.Minimize(totalProfit)\n",
    "\n",
    "\n",
    "\n",
    "\n",
    "# define constraints\n",
    "constraints = [total <= 15000, # total size of mall is 15000\n",
    "               x[0] >= minSpace[0], # a more clever python way of doing this exists, obviously\n",
    "               x[0] <= maxSpace[0],\n",
    "               x[1] >= minSpace[1],\n",
    "               x[1] <= maxSpace[1],\n",
    "               x[2] >= minSpace[2],\n",
    "               x[2] <= maxSpace[2],\n",
    "               x[3] >= minSpace[3],\n",
    "               x[3] <= maxSpace[3],\n",
    "               x[4] >= minSpace[4],\n",
    "               x[4] <= maxSpace[4],\n",
    "               x[5] >= minSpace[5],\n",
    "               x[5] <= maxSpace[5],\n",
    "               x[0]+x[1]+x[2] >= .45*total, # percent for clothing stores\n",
    "               x[5] <= .15*total, # percent for book stores\n",
    "               totalCost <= 25000000 # building costs\n",
    "]\n",
    "\n",
    "prob = cp.Problem(objective, constraints)\n",
    "\n",
    "result = prob.solve()\n",
    "\n",
    "[print(stores[i],\":\",x[i].value) for i in range(len(stores))]\n",
    "print(\"Profit:\",result)"
   ]
  },
  {
   "cell_type": "code",
   "execution_count": 0,
   "metadata": {
    "collapsed": false
   },
   "outputs": [
   ],
   "source": [
   ]
  }
 ],
 "metadata": {
  "kernelspec": {
   "argv": [
    "sage-10.0",
    "--python",
    "-m",
    "sage.repl.ipython_kernel",
    "--matplotlib=inline",
    "-f",
    "{connection_file}"
   ],
   "display_name": "SageMath 10.0",
   "env": {
   },
   "language": "sagemath",
   "metadata": {
    "cocalc": {
     "description": "Open-source mathematical software system",
     "priority": 1,
     "url": "https://www.sagemath.org/"
    }
   },
   "name": "sage-10.0",
   "resource_dir": "/ext/jupyter/kernels/sage-10.0"
  },
  "language_info": {
   "codemirror_mode": {
    "name": "ipython",
    "version": 3
   },
   "file_extension": ".py",
   "mimetype": "text/x-python",
   "name": "python",
   "nbconvert_exporter": "python",
   "pygments_lexer": "ipython3",
   "version": "3.11.1"
  }
 },
 "nbformat": 4,
 "nbformat_minor": 4
}