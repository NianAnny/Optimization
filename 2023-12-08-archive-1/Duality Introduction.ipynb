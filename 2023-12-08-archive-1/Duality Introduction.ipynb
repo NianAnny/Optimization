{
 "cells": [
  {
   "cell_type": "code",
   "execution_count": 1,
   "metadata": {
    "collapsed": false
   },
   "outputs": [
   ],
   "source": [
    "import cvxpy as cp\n",
    "import numpy as np"
   ]
  },
  {
   "cell_type": "code",
   "execution_count": 7,
   "metadata": {
    "collapsed": false
   },
   "outputs": [
    {
     "name": "stdout",
     "output_type": "stream",
     "text": [
      "63.999999945609844\n",
      "[24.00000005  3.99999996]\n"
     ]
    }
   ],
   "source": [
    "x = cp.Variable(2, pos = True)\n",
    "\n",
    "objective = cp.Maximize(2*x[0]+4*x[1])\n",
    "\n",
    "constraints = [4*x[0]+6*x[1] <= 120,\n",
    "               2*x[0]+6*x[1] <= 72,\n",
    "                 x[1] <= 10]\n",
    "\n",
    "prob = cp.Problem(objective, constraints)\n",
    "\n",
    "result = prob.solve()\n",
    "print(result)\n",
    "print(x.value)\n"
   ]
  },
  {
   "cell_type": "code",
   "execution_count": 8,
   "metadata": {
    "collapsed": false
   },
   "outputs": [
    {
     "name": "stdout",
     "output_type": "stream",
     "text": [
      "63.99999997053908\n",
      "[3.33333333e-01 3.33333333e-01 2.46372152e-09]\n"
     ]
    }
   ],
   "source": [
    "y = cp.Variable(3, pos = True)\n",
    "\n",
    "objective = cp.Minimize(120*y[0] + 72*y[1] + 10*y[2])\n",
    "\n",
    "constraints = [4*y[0]+2*y[1] >= 2,\n",
    "              6*y[0]+6*y[1]+y[2] >= 4]\n",
    "\n",
    "prob = cp.Problem(objective,constraints)\n",
    "\n",
    "result = prob.solve()\n",
    "print(result)\n",
    "print(y.value)"
   ]
  },
  {
   "cell_type": "code",
   "execution_count": 0,
   "metadata": {
    "collapsed": false
   },
   "outputs": [
   ],
   "source": [
   ]
  }
 ],
 "metadata": {
  "kernelspec": {
   "argv": [
    "sage-9.8",
    "--python",
    "-m",
    "sage.repl.ipython_kernel",
    "--matplotlib=inline",
    "-f",
    "{connection_file}"
   ],
   "display_name": "SageMath 9.8",
   "env": {
   },
   "language": "sagemath",
   "metadata": {
    "cocalc": {
     "description": "Open-source mathematical software system",
     "priority": 1,
     "url": "https://www.sagemath.org/"
    }
   },
   "name": "sage-9.8",
   "resource_dir": "/ext/jupyter/kernels/sage-9.8"
  },
  "language_info": {
   "codemirror_mode": {
    "name": "ipython",
    "version": 3
   },
   "file_extension": ".py",
   "mimetype": "text/x-python",
   "name": "python",
   "nbconvert_exporter": "python",
   "pygments_lexer": "ipython3",
   "version": "3.11.1"
  }
 },
 "nbformat": 4,
 "nbformat_minor": 4
}