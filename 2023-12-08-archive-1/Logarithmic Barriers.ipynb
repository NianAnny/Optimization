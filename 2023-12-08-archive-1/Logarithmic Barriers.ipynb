{
 "cells": [
  {
   "cell_type": "code",
   "execution_count": 8,
   "metadata": {
    "collapsed": false
   },
   "outputs": [
   ],
   "source": [
    "import numpy as np\n",
    "import matplotlib.pyplot as plt"
   ]
  },
  {
   "cell_type": "code",
   "execution_count": 21,
   "metadata": {
    "collapsed": false
   },
   "outputs": [
    {
     "name": "stderr",
     "output_type": "stream",
     "text": [
      "/tmp/ipykernel_934/1082506825.py:2: RuntimeWarning: invalid value encountered in log\n",
      "  return -1/t*np.log(-y)\n"
     ]
    },
    {
     "data": {
      "text/plain": [
       "(-1.0, 10.0)"
      ]
     },
     "execution_count": 21,
     "metadata": {
     },
     "output_type": "execute_result"
    },
    {
     "data": {
      "image/png": "[encoded data removed]",
      "text/plain": [
       "<Figure size 864x504 with 1 Axes>"
      ]
     },
     "execution_count": 21,
     "metadata": {
      "image/png": {
       "height": 415,
       "width": 703
      },
      "needs_background": "light"
     },
     "output_type": "execute_result"
    }
   ],
   "source": [
    "def logBarrier(y,t):\n",
    "    return -1/t*np.log(-y)\n",
    "    \n",
    "y = np.linspace(-10,0.000000001,10001)\n",
    "\n",
    "fig,ax = plt.subplots()\n",
    "t = 100\n",
    "ax.plot(y,logBarrier(y,t))\n",
    "ax.set_ylim(np.array([-1,10]))"
   ]
  },
  {
   "cell_type": "code",
   "execution_count": 22,
   "metadata": {
    "collapsed": false
   },
   "outputs": [
   ],
   "source": [
    "def newtonsEqualityMethod(f,df,d2f,A,x,tol,alpha,beta): # note don't need b, but DO need Ax_0 = b\n",
    "    k = 0\n",
    "    decrement = tol + 1\n",
    "    \n",
    "    while decrement > tol:\n",
    "        \n",
    "        # calculate gradient and hessian at current location\n",
    "        grad = df(x)\n",
    "        hess = d2f(x)\n",
    "        \n",
    "        # construct block KKT matrix\n",
    "        KKT = np.block([[hess, np.transpose(A)],\n",
    "                        [A,np.zeros((A.shape[0],A.shape[0]))]])\n",
    "        \n",
    "        KKTrhs = np.concatenate([-grad,np.zeros(A.shape[0])])\n",
    "        \n",
    "        # find the descent direction by solving KKT system for (deltaX , w) and then only grab deltaX\n",
    "        descentDir = np.linalg.solve(KKT,KKTrhs)[0:A.shape[1]]\n",
    "        \n",
    "        # backtracking to choose how far to go in the descent direction\n",
    "        stepsize = 1\n",
    "        while f(x + stepsize*descentDir) > f(x) + alpha*stepsize*np.dot(descentDir,descentDir):\n",
    "            stepsize = beta*stepsize\n",
    "            \n",
    "        x = x + stepsize*descentDir\n",
    "        \n",
    "        decrement = np.dot(descentDir, np.dot(hess,descentDir))\n",
    "        k += 1\n",
    "        print(x)\n",
    "        \n",
    "    return [x,k]"
   ]
  },
  {
   "cell_type": "code",
   "execution_count": 24,
   "metadata": {
    "collapsed": false
   },
   "outputs": [
   ],
   "source": [
    "def newtonsMethod(f,df,d2f,x,tol,alpha,beta):\n",
    "    i = 0\n",
    "    decrement = tol + 1\n",
    "    \n",
    "    while decrement > tol:\n",
    "        \n",
    "        hess = d2f(x)\n",
    "        grad = df(x)\n",
    "        \n",
    "        descentDir = np.linalg.solve(-hess,grad)\n",
    "        \n",
    "        stepsize = 1\n",
    "        \n",
    "        while f(x+stepsize*descentDir) > f(x)+alpha*stepsize*np.dot(descentDir,descentDir):\n",
    "            \n",
    "            stepsize = beta*stepsize\n",
    "            \n",
    "        \n",
    "        x = x + stepsize*descentDir\n",
    "        i = i+1\n",
    "        decrement = np.dot(grad,-descentDir)\n",
    "        \n",
    "    return [x,i]\n",
    "\n",
    "\n",
    "def type3solver(f0,f1,f2,df0,df1,df2,d2f0,d2f1,d2f2,x,t,mu,tol1,tol2,alpha,beta):\n",
    "    iter = 0\n",
    "    \n",
    "    \n",
    "    while 1/t > tol1:\n",
    "        def logFunc(x):\n",
    "            return t*f0(x) - np.log(-f1(x)) - np.log(-f2(x))\n",
    "        \n",
    "        iter = iter + 1\n",
    "        \n",
    "        def d1logFunc(x):\n",
    "            return t*df0(x)-1/f1(x)*df1(x)-1/f2(x)*df2(x)\n",
    "            \n",
    "        def d2logFunc(x):\n",
    "            return t*d2f0(x) + 1/f1(x)**2*np.outer(df1(x),df1(x)) + 1/f2(x)**2*np.outer(df2(x),df2(x)) - 1/f1(x)*d2f1(x) - 1/f2(x)*d2f2(x)\n",
    "        \n",
    "        newtonSolve = newtonsMethod(logFunc,d1logFunc,d2logFunc,x,tol2,alpha,beta)\n",
    "        \n",
    "        x = newtonSolve[0]\n",
    "        t = mu*t\n",
    "        \n",
    "    return x\n",
    "\n",
    "\n",
    "def f0(x):\n",
    "    return x[0]**2+x[1]**2\n",
    "\n",
    "def f1(x):\n",
    "    return (x[0]-1)**2 + (x[1]-1)**2 - 1\n",
    "\n",
    "def f2(x):\n",
    "    return (x[0]-1)**2 + (x[1]+1)**2 - 4\n",
    "\n",
    "\n",
    "def df0(x):\n",
    "    return np.array([2*x[0],2*x[1]])\n",
    "\n",
    "def df1(x):\n",
    "    return np.array([2*(x[0]-1),2*(x[1]-1)])\n",
    "    \n",
    "def df2(x):\n",
    "    return np.array([2*(x[0]-1),2*(x[1]+1)])\n",
    "    \n",
    "    \n",
    "def d2f0(x):\n",
    "    return np.array([[2,0],[0,2]])\n",
    "\n",
    "def d2f1(x):\n",
    "    return np.array([[2,0],[0,2]])\n",
    "\n",
    "def d2f2(x):\n",
    "    return np.array([[2,0],[0,2]])\n",
    "\n",
    "\n",
    "\n",
    "\n",
    "sol = type3solver(f0,f1,f2,df0,df1,df2,df0,d2f1,d2f2,np.array([1,.5]),1,2,1e-8,1e-8,.1,.5)"
   ]
  },
  {
   "cell_type": "code",
   "execution_count": 25,
   "metadata": {
    "collapsed": false
   },
   "outputs": [
    {
     "data": {
      "text/plain": [
       "array([0.29289324, 0.29289323])"
      ]
     },
     "execution_count": 25,
     "metadata": {
     },
     "output_type": "execute_result"
    }
   ],
   "source": [
    "sol"
   ]
  },
  {
   "cell_type": "code",
   "execution_count": 0,
   "metadata": {
    "collapsed": false
   },
   "outputs": [
   ],
   "source": [
   ]
  }
 ],
 "metadata": {
  "kernelspec": {
   "argv": [
    "/usr/bin/python3",
    "-m",
    "ipykernel",
    "--HistoryManager.enabled=False",
    "--matplotlib=inline",
    "-c",
    "%config InlineBackend.figure_formats = set(['retina'])\nimport matplotlib; matplotlib.rcParams['figure.figsize'] = (12, 7)",
    "-f",
    "{connection_file}"
   ],
   "display_name": "Python 3 (system-wide)",
   "env": {
   },
   "language": "python",
   "metadata": {
    "cocalc": {
     "description": "Python 3 programming language",
     "priority": 100,
     "url": "https://www.python.org/"
    }
   },
   "name": "python3",
   "resource_dir": "/ext/jupyter/kernels/python3"
  },
  "language_info": {
   "codemirror_mode": {
    "name": "ipython",
    "version": 3
   },
   "file_extension": ".py",
   "mimetype": "text/x-python",
   "name": "python",
   "nbconvert_exporter": "python",
   "pygments_lexer": "ipython3",
   "version": "3.10.12"
  }
 },
 "nbformat": 4,
 "nbformat_minor": 4
}