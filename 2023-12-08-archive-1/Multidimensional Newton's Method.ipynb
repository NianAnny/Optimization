{
 "cells": [
  {
   "cell_type": "code",
   "execution_count": 10,
   "metadata": {
    "collapsed": false
   },
   "outputs": [],
   "source": [
    "import numpy as np\n",
    "\n",
    "def newton(g,grad,x0,tol):\n",
    "    x = x0 # initial guess\n",
    "    err = tol + 1 # intialize error so we don't skip the loop\n",
    "    while err > tol:\n",
    "        \n",
    "        gxk = g(x)\n",
    "        Gxk = grad(x)\n",
    "        \n",
    "        x = x - np.linalg.solve(Gxk,gxk) # newton's method is x_{k+1} = x_k - grad(g(x_k))^-1 g(x_k)\n",
    "        \n",
    "        err = np.sum(g(x)**2) # square add up every component of g(x) - as we approach the zero vector this becomes small\n",
    "        print(x) # print intermediate steps (comment out if running on bigger problem)\n",
    "        \n",
    "    return x"
   ]
  },
  {
   "cell_type": "code",
   "execution_count": 17,
   "metadata": {
    "collapsed": false
   },
   "outputs": [
    {
     "name": "stdout",
     "output_type": "stream",
     "text": [
      "[2. 0.]\n",
      "[1.40600585 0.        ]\n",
      "[1.14136698 0.        ]\n",
      "[1.09951338 0.        ]\n",
      "[1.09861269 0.        ]\n",
      "[1.09861229 0.        ]\n"
     ]
    }
   ],
   "source": [
    "# solve the unconstrained optimization problem min f(x,y) = exp(x)+y^2-3x\n",
    "# true optimum should be y = 0 and x = log(3) = 1.09861\n",
    "\n",
    "df = lambda x: np.array([np.exp(x[0])-3,2*x[1]])\n",
    "d2f = lambda x: np.array([[np.exp(x[0]), 0],\n",
    "                           [0,2]])\n",
    "\n",
    "xOpt = newton(df,d2f,np.array([0,1]),1e-12)"
   ]
  }
 ],
 "metadata": {
  "kernelspec": {
   "argv": [
    "/usr/bin/python3",
    "-m",
    "ipykernel",
    "--HistoryManager.enabled=False",
    "--matplotlib=inline",
    "-c",
    "%config InlineBackend.figure_formats = set(['retina'])\nimport matplotlib; matplotlib.rcParams['figure.figsize'] = (12, 7)",
    "-f",
    "{connection_file}"
   ],
   "display_name": "Python 3 (system-wide)",
   "env": {},
   "language": "python",
   "metadata": {
    "cocalc": {
     "description": "Python 3 programming language",
     "priority": 100,
     "url": "https://www.python.org/"
    }
   },
   "name": "python3",
   "resource_dir": "/ext/jupyter/kernels/python3"
  }
 },
 "nbformat": 4,
 "nbformat_minor": 4
}
