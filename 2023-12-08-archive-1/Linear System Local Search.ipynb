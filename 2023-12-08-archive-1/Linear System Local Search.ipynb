{
 "cells": [
  {
   "cell_type": "code",
   "execution_count": 8,
   "metadata": {
    "collapsed": false
   },
   "outputs": [
   ],
   "source": [
    "import numpy as np\n",
    "import time\n",
    "import matplotlib.pyplot as plt"
   ]
  },
  {
   "cell_type": "code",
   "execution_count": 14,
   "metadata": {
    "collapsed": false
   },
   "outputs": [
    {
     "name": "stdout",
     "output_type": "stream",
     "text": [
      "[ 0.84848485  0.27272727 -0.18181818]\n"
     ]
    }
   ],
   "source": [
    "A = np.array([[3,1,-1],\n",
    "              [0,5,2],\n",
    "              [-3,-1,12]])\n",
    "b = np.array([3,1,-5])\n",
    "\n",
    "exactSol = np.linalg.solve(A,b)\n",
    "print(exactSol)"
   ]
  },
  {
   "cell_type": "code",
   "execution_count": 4,
   "metadata": {
    "collapsed": false
   },
   "outputs": [
    {
     "name": "stdout",
     "output_type": "stream",
     "text": [
      "Time to solve system of size 3000 : 0.5991988182067871\n"
     ]
    }
   ],
   "source": [
    "size = 3000\n",
    "\n",
    "A = np.random.rand(size,size)\n",
    "b = np.random.rand(size)\n",
    "\n",
    "start = time.time()\n",
    "x = np.linalg.solve(A,b)\n",
    "end = time.time()\n",
    "print(\"Time to solve system of size\",size,\":\",end - start)"
   ]
  },
  {
   "cell_type": "code",
   "execution_count": 9,
   "metadata": {
    "collapsed": false
   },
   "outputs": [
    {
     "data": {
      "text/plain": [
       "[<matplotlib.lines.Line2D object at 0x7f5465669810>]"
      ]
     },
     "execution_count": 9,
     "metadata": {
     },
     "output_type": "execute_result"
    },
    {
     "data": {
      "image/png": "[encoded data removed]",
      "text/plain": [
       "<Figure size 640x480 with 1 Axes>"
      ]
     },
     "execution_count": 9,
     "metadata": {
     },
     "output_type": "execute_result"
    }
   ],
   "source": [
    "sizes = np.array([2**i for i in range(14)])\n",
    "timeToSolve = np.zeros(len(sizes))\n",
    "\n",
    "for i in range(len(sizes)):\n",
    "    size = sizes[i]\n",
    "    A = np.random.rand(size,size)\n",
    "    b = np.random.rand(size)\n",
    "    start = time.time()\n",
    "    x = np.linalg.solve(A,b)\n",
    "    end = time.time()\n",
    "    timeToSolve[i] = end - start\n",
    "    \n",
    "    \n",
    "plt.plot(sizes,timeToSolve,'.')"
   ]
  },
  {
   "cell_type": "code",
   "execution_count": 10,
   "metadata": {
    "collapsed": false
   },
   "outputs": [
    {
     "data": {
      "text/plain": [
       "[<matplotlib.lines.Line2D object at 0x7f5413698210>]"
      ]
     },
     "execution_count": 10,
     "metadata": {
     },
     "output_type": "execute_result"
    },
    {
     "data": {
      "image/png": "[encoded data removed]",
      "text/plain": [
       "<Figure size 640x480 with 1 Axes>"
      ]
     },
     "execution_count": 10,
     "metadata": {
     },
     "output_type": "execute_result"
    }
   ],
   "source": [
    "plt.plot(np.log(sizes),np.log(timeToSolve),'.')"
   ]
  },
  {
   "cell_type": "code",
   "execution_count": 29,
   "metadata": {
    "collapsed": false
   },
   "outputs": [
    {
     "name": "stdout",
     "output_type": "stream",
     "text": [
      "[-4.26738413539425e436, 4.46686634015113e436, -3.05092644797803e437] Number of iterations: 1001\n"
     ]
    }
   ],
   "source": [
    "xOld = 1.\n",
    "yOld = 1.\n",
    "zOld = 1.\n",
    "\n",
    "tol = 10^-17\n",
    "i = 0\n",
    "sizeChange = tol + 1\n",
    "\n",
    "\n",
    "while sizeChange > tol:\n",
    "    i += 1\n",
    "    xNew = (3 - yOld + zOld)/3\n",
    "    yNew = (1 - 2*zOld)/5\n",
    "    #zNew = (-5 + 3*xOld + yOld)/12\n",
    "    zNew = (-5 + 3*xOld + yOld)/.1\n",
    "    \n",
    "    change = np.array([xNew - xOld,yNew - yOld,zNew - zOld])\n",
    "    sizeChange = np.linalg.norm(change) # finds the length of the vector\n",
    "    \n",
    "    xOld = xNew\n",
    "    yOld = yNew\n",
    "    zOld = zNew\n",
    "    \n",
    "    if i > 1000:\n",
    "        break\n",
    "    \n",
    "print([xNew,yNew,zNew],\"Number of iterations:\",i)"
   ]
  },
  {
   "cell_type": "code",
   "execution_count": 28,
   "metadata": {
    "collapsed": false
   },
   "outputs": [
    {
     "name": "stdout",
     "output_type": "stream",
     "text": [
      "[ 1.97037037 -0.68888889  2.22222222]\n"
     ]
    }
   ],
   "source": [
    "A = np.array([[3,1,-1],\n",
    "              [0,5,2],\n",
    "              [-3,-1,.1]])\n",
    "b = np.array([3,1,-5])\n",
    "\n",
    "exactSol = np.linalg.solve(A,b)\n",
    "print(exactSol)"
   ]
  },
  {
   "cell_type": "code",
   "execution_count": 0,
   "metadata": {
    "collapsed": false
   },
   "outputs": [
   ],
   "source": [
   ]
  }
 ],
 "metadata": {
  "kernelspec": {
   "argv": [
    "sage-10.0",
    "--python",
    "-m",
    "sage.repl.ipython_kernel",
    "--matplotlib=inline",
    "-f",
    "{connection_file}"
   ],
   "display_name": "SageMath 10.0",
   "env": {
   },
   "language": "sagemath",
   "metadata": {
    "cocalc": {
     "description": "Open-source mathematical software system",
     "priority": 1,
     "url": "https://www.sagemath.org/"
    }
   },
   "name": "sage-10.0",
   "resource_dir": "/ext/jupyter/kernels/sage-10.0"
  },
  "language_info": {
   "codemirror_mode": {
    "name": "ipython",
    "version": 3
   },
   "file_extension": ".py",
   "mimetype": "text/x-python",
   "name": "python",
   "nbconvert_exporter": "python",
   "pygments_lexer": "ipython3",
   "version": "3.11.1"
  }
 },
 "nbformat": 4,
 "nbformat_minor": 4
}