{
 "cells": [
  {
   "cell_type": "code",
   "execution_count": 1,
   "metadata": {
    "collapsed": false
   },
   "outputs": [
    {
     "name": "stdout",
     "output_type": "stream",
     "text": [
      "A -> 1 None\n",
      "A -> 2 None\n",
      "A -> 3 None\n",
      "A -> 4 None\n",
      "B -> 1 None\n",
      "B -> 2 None\n",
      "B -> 3 None\n",
      "B -> 4 None\n",
      "C -> 1 None\n",
      "C -> 2 None\n",
      "C -> 3 None\n",
      "C -> 4 None\n",
      "Cost: inf\n"
     ]
    }
   ],
   "source": [
    "import cvxpy as cp\n",
    "\n",
    "# we'll use i = {0,1,2} for plants and j = {0,1,2,3} for cities\n",
    "plants = [\"A\",\"B\",\"C\"]\n",
    "cities = [\"1\",\"2\",\"3\",\"4\"]\n",
    "supply = [85,115,100]\n",
    "demand = [115,70,65,75]\n",
    "cost = [[10,7,10,6],\n",
    "       [7,12,16,9],\n",
    "       [12,8,13,7]]\n",
    "\n",
    "# decision variable\n",
    "x = cp.Variable((len(supply),len(demand)),pos = True)\n",
    "\n",
    "totalCost = cp.sum([cp.sum([cost[i][j]*x[i][j] for j in range(len(cities))]) for i in range(len(plants))])\n",
    "objective = cp.Minimize(totalCost)\n",
    "\n",
    "constraints = []\n",
    "\n",
    "# supply constraints\n",
    "for i in range(len(plants)):\n",
    "    constraints += [cp.sum([x[i][j] for j in range(len(cities))]) <= supply[i]]\n",
    "    \n",
    "# demand constraints\n",
    "for j in range(len(cities)):\n",
    "    constraints += [cp.sum([x[i][j] for i in range(len(plants))]) >= demand[j]]\n",
    "    \n",
    "prob = cp.Problem(objective, constraints)\n",
    "\n",
    "result = prob.solve()\n",
    "\n",
    "[[print(plants[i],\"->\",cities[j],x[i][j].value) for j in range(len(cities))] for i in range(len(plants))]\n",
    "print(\"Cost:\",result)"
   ]
  },
  {
   "cell_type": "code",
   "execution_count": 21,
   "metadata": {
    "collapsed": false
   },
   "outputs": [
    {
     "name": "stdout",
     "output_type": "stream",
     "text": [
      "A -> 1 2.817746111727039e-09\n",
      "A -> 2 9.458353891710614\n",
      "A -> 3 64.99999999681022\n",
      "A -> 4 10.541646108565057\n",
      "B -> 1 114.99999999529105\n",
      "B -> 2 1.3444571164017121e-09\n",
      "B -> 3 1.014240983718998e-09\n",
      "B -> 4 2.246056892029365e-09\n",
      "C -> 1 1.3428161640305196e-09\n",
      "C -> 2 35.54164610739809\n",
      "C -> 3 1.966274800509857e-09\n",
      "C -> 4 64.45835388919308\n",
      "D -> 1 6.345571744131777e-10\n",
      "D -> 2 24.99999999965831\n",
      "D -> 3 2.8102705055145645e-10\n",
      "D -> 4 6.902398708926546e-11\n",
      "Cost: 3320.0000000745677\n"
     ]
    }
   ],
   "source": [
    "import cvxpy as cp\n",
    "\n",
    "# we'll use i = {0,1,2} for plants and j = {0,1,2,3} for cities\n",
    "plants = [\"A\",\"B\",\"C\",\"D\"]\n",
    "cities = [\"1\",\"2\",\"3\",\"4\"]\n",
    "supply = [85,115,100,100000]\n",
    "demand = [115,70,65,75]\n",
    "cost = [[10,7,10,6],\n",
    "       [7,12,16,9],\n",
    "       [12,8,13,7],\n",
    "       [50,40,60,75]]\n",
    "\n",
    "# decision variable\n",
    "x = cp.Variable((len(supply),len(demand)),pos = True)\n",
    "\n",
    "totalCost = cp.sum([cp.sum([cost[i][j]*x[i][j] for j in range(len(cities))]) for i in range(len(plants))]) \n",
    "objective = cp.Minimize(totalCost)\n",
    "\n",
    "constraints = []\n",
    "\n",
    "# supply constraints\n",
    "for i in range(len(plants)):\n",
    "    constraints += [cp.sum([x[i][j] for j in range(len(cities))]) <= supply[i]]\n",
    "    \n",
    "# demand constraints\n",
    "for j in range(len(cities)):\n",
    "    constraints += [cp.sum([x[i][j] for i in range(len(plants))]) >= demand[j]]\n",
    "    \n",
    "prob = cp.Problem(objective, constraints)\n",
    "\n",
    "result = prob.solve()\n",
    "\n",
    "[[print(plants[i],\"->\",cities[j],x[i][j].value) for j in range(len(cities))] for i in range(len(plants))]\n",
    "print(\"Cost:\",result)"
   ]
  },
  {
   "cell_type": "code",
   "execution_count": 0,
   "metadata": {
    "collapsed": false
   },
   "outputs": [
   ],
   "source": [
   ]
  },
  {
   "cell_type": "code",
   "execution_count": 0,
   "metadata": {
    "collapsed": false
   },
   "outputs": [
   ],
   "source": [
   ]
  }
 ],
 "metadata": {
  "kernelspec": {
   "argv": [
    "sage-10.0",
    "--python",
    "-m",
    "sage.repl.ipython_kernel",
    "--matplotlib=inline",
    "-f",
    "{connection_file}"
   ],
   "display_name": "SageMath 10.0",
   "env": {
   },
   "language": "sagemath",
   "metadata": {
    "cocalc": {
     "description": "Open-source mathematical software system",
     "priority": 1,
     "url": "https://www.sagemath.org/"
    }
   },
   "name": "sage-10.0",
   "resource_dir": "/ext/jupyter/kernels/sage-10.0"
  },
  "language_info": {
   "codemirror_mode": {
    "name": "ipython",
    "version": 3
   },
   "file_extension": ".py",
   "mimetype": "text/x-python",
   "name": "python",
   "nbconvert_exporter": "python",
   "pygments_lexer": "ipython3",
   "version": "3.11.1"
  }
 },
 "nbformat": 4,
 "nbformat_minor": 4
}