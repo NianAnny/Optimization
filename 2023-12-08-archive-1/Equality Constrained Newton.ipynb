{
 "cells": [
  {
   "cell_type": "code",
   "execution_count": 3,
   "metadata": {
    "collapsed": false
   },
   "outputs": [
   ],
   "source": [
    "import numpy as np"
   ]
  },
  {
   "cell_type": "code",
   "execution_count": 16,
   "metadata": {
    "collapsed": false
   },
   "outputs": [
   ],
   "source": [
    "def newtonsEqualityMethod(f,df,d2f,A,x,tol,alpha,beta): # note don't need b, but DO need Ax_0 = b\n",
    "    k = 0\n",
    "    decrement = tol + 1\n",
    "    \n",
    "    while decrement > tol:\n",
    "        \n",
    "        # calculate gradient and hessian at current location\n",
    "        grad = df(x)\n",
    "        hess = d2f(x)\n",
    "        \n",
    "        # construct block KKT matrix\n",
    "        KKT = np.block([[hess, np.transpose(A)],\n",
    "                        [A,np.zeros((A.shape[0],A.shape[0]))]])\n",
    "        \n",
    "        KKTrhs = np.concatenate([-grad,np.zeros(A.shape[0])])\n",
    "        \n",
    "        # find the descent direction by solving KKT system for (deltaX , w) and then only grab deltaX\n",
    "        descentDir = np.linalg.solve(KKT,KKTrhs)[0:A.shape[1]]\n",
    "        \n",
    "        # backtracking to choose how far to go in the descent direction\n",
    "        stepsize = 1\n",
    "        while f(x + stepsize*descentDir) > f(x) + alpha*stepsize*np.dot(descentDir,descentDir):\n",
    "            stepsize = beta*stepsize\n",
    "            \n",
    "        x = x + stepsize*descentDir\n",
    "        \n",
    "        decrement = np.dot(descentDir, np.dot(hess,descentDir))\n",
    "        k += 1\n",
    "        print(x)\n",
    "        \n",
    "    return [x,k]"
   ]
  },
  {
   "cell_type": "code",
   "execution_count": 22,
   "metadata": {
    "collapsed": false
   },
   "outputs": [
    {
     "name": "stdout",
     "output_type": "stream",
     "text": [
      "[0.31578947 3.05263158]\n",
      "[0.33792187 2.9862344 ]\n",
      "[0.33803384 2.98589847]\n",
      "[0.33803385 2.98589846]\n"
     ]
    }
   ],
   "source": [
    "def f(x):\n",
    "    return x[0]*np.log(x[0]) + (x[1]-3)**2\n",
    "    \n",
    "def df(x):\n",
    "    return np.array([np.log(x[0])+1, 2*(x[1]-3)])\n",
    "\n",
    "def d2f(x):\n",
    "    return np.array([[1/x[0], 0],[0, 2]])\n",
    "\n",
    "x0 = np.array([1,1])\n",
    "A = np.matrix([3,1])\n",
    "\n",
    "tol = 1e-12\n",
    "alpha = 0.1\n",
    "beta = 0.5\n",
    "\n",
    "result = newtonsEqualityMethod(f,df,d2f,A,x0,tol,alpha,beta)"
   ]
  }
 ],
 "metadata": {
  "kernelspec": {
   "argv": [
    "/usr/bin/python3",
    "-m",
    "ipykernel",
    "--HistoryManager.enabled=False",
    "--matplotlib=inline",
    "-c",
    "%config InlineBackend.figure_formats = set(['retina'])\nimport matplotlib; matplotlib.rcParams['figure.figsize'] = (12, 7)",
    "-f",
    "{connection_file}"
   ],
   "display_name": "Python 3 (system-wide)",
   "env": {
   },
   "language": "python",
   "metadata": {
    "cocalc": {
     "description": "Python 3 programming language",
     "priority": 100,
     "url": "https://www.python.org/"
    }
   },
   "name": "python3",
   "resource_dir": "/ext/jupyter/kernels/python3"
  }
 },
 "nbformat": 4,
 "nbformat_minor": 4
}