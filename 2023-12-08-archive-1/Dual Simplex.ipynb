{
 "cells": [
  {
   "cell_type": "code",
   "execution_count": 90,
   "metadata": {
    "collapsed": false
   },
   "outputs": [
    {
     "name": "stdout",
     "output_type": "stream",
     "text": [
      "[24.  4.  6. -4.]\n"
     ]
    }
   ],
   "source": [
    "import numpy as np\n",
    "\n",
    "# inputs to dual simplex would be: the linear program c,A,b, an initial infeasible xB and its complementary slackness counterpart yB\n",
    "\n",
    "A = np.array([[4,6,1,0,0,0],\n",
    "             [2,6,0,1,0,0],\n",
    "             [0,1,0,0,1,0],\n",
    "             [1,0,0,0,0,1]])\n",
    "\n",
    "c = np.array([2,4,0,0,0,0])\n",
    "\n",
    "# full x (x1,x2,s1,s2,s3,s4)\n",
    "xFull = np.array([24.,4,0,0,6,-4])\n",
    "\n",
    "# full y reordered to coincide with x for ease of comp. slackness (w1,w2,y1,y2,y3,y4)\n",
    "yFull = np.array([0,0,1/3,1/3,0,0])\n",
    "\n",
    "# primal basis and nonbasis\n",
    "primalBasis = [0,1,4,5]\n",
    "primalNonbasis = [2,3]\n",
    "\n",
    "# all the nonzero entries of x and y\n",
    "xB = xFull[primalBasis]\n",
    "yB = yFull[primalNonbasis]\n",
    "\n",
    "\n",
    "# construct basic / nonbasic parts of constraint matrix A\n",
    "B = A[:,primalBasis]\n",
    "N = A[:,primalNonbasis]\n",
    "\n",
    "# entering variable in dual / leaving variable in primal is dictated by cNbar, which is just xB!\n",
    "cNbar = xB\n",
    "print(cNbar)"
   ]
  },
  {
   "cell_type": "code",
   "execution_count": 91,
   "metadata": {
    "collapsed": false
   },
   "outputs": [
    {
     "name": "stdout",
     "output_type": "stream",
     "text": [
      "[ 0.66666667 -0.66666667]\n"
     ]
    }
   ],
   "source": [
    "# inspect the above to choose entering dual / leaving primal\n",
    "leavingPrimal = 5 # the only negative value is primalBasis[3] = variable 5 (s4)\n",
    "leavingPrimalBasis = 3 # s4 corresponds to variable 4 in the basis\n",
    "\n",
    "# step size for the primal can be read off of xB\n",
    "lambdaPrimal = -xFull[leavingPrimal]\n",
    "\n",
    "# simplex direction for dual comes from taking the associated row of B^-1*N - note that variable 5 (s4) corresponds to the 4th entry in the basis\n",
    "BinvN = np.dot(np.linalg.inv(B),N)\n",
    "dBhat = BinvN[leavingPrimalBasis,:]\n",
    "\n",
    "# use ratio test to pick leaving dual aka entering primal\n",
    "dualRatios = -yB / dBhat\n",
    "print(dualRatios)"
   ]
  },
  {
   "cell_type": "code",
   "execution_count": 93,
   "metadata": {
    "collapsed": false
   },
   "outputs": [
    {
     "name": "stdout",
     "output_type": "stream",
     "text": [
      "lambdaDual: 0.6666666666666666\n",
      "dBhat: [-0.5  0.5]\n",
      "lambdaPrimal: 4.0\n",
      "dB: [-1.          0.33333333  2.         -0.33333333]\n",
      "x: [16.          6.66666667 16.          0.          3.33333333  0.        ]\n",
      "y: [ 0.          0.         -0.33333333  1.          0.          0.66666667]\n"
     ]
    }
   ],
   "source": [
    "# inspect the ratio test above to pick the leaving dual / entering primal\n",
    "enteringPrimal = 3 # 2nd entry in N corresponds to s1\n",
    "newPrimalBasis = [0,1,2,4] # old basis was x1,x2,s3,s4 -> s4 leaving and s1 entering gives x1,x2,s1,s3\n",
    "newPrimalNonbasis = [3,5]\n",
    "\n",
    "# step size for the dual can be read by comparing yB and dualRatios\n",
    "lambdaDual = 2/3\n",
    "\n",
    "# new basis matrix B\n",
    "newB = A[:,newPrimalBasis]\n",
    "# dB for the primal can be found using the new basis\n",
    "dB = np.linalg.solve(newB,-A[:,leavingPrimal])\n",
    "\n",
    "# updates!\n",
    "xFull[leavingPrimal] = 0 # leaving primal variable leaves (goes to zero)\n",
    "xFull[newPrimalBasis] = xFull[newPrimalBasis] + dB * lambdaPrimal # new primal basis variables get updated\n",
    "\n",
    "yFull[leavingPrimal] = lambdaDual # entering dual variable enters!\n",
    "yFull[primalNonbasis] = yFull[primalNonbasis] + dBhat * lambdaDual # dual basis variables get updated (simplex step)\n",
    "\n",
    "# print all results:\n",
    "print(\"lambdaDual:\",lambdaDual)\n",
    "print(\"dBhat:\",dBhat)\n",
    "\n",
    "print(\"lambdaPrimal:\",lambdaPrimal)\n",
    "print(\"dB:\",dB)\n",
    "\n",
    "print(\"x:\",xFull)\n",
    "print(\"y:\",yFull)"
   ]
  }
 ],
 "metadata": {
  "kernelspec": {
   "argv": [
    "/usr/bin/python3",
    "-m",
    "ipykernel",
    "--HistoryManager.enabled=False",
    "--matplotlib=inline",
    "-c",
    "%config InlineBackend.figure_formats = set(['retina'])\nimport matplotlib; matplotlib.rcParams['figure.figsize'] = (12, 7)",
    "-f",
    "{connection_file}"
   ],
   "display_name": "Python 3 (system-wide)",
   "env": {
   },
   "language": "python",
   "metadata": {
    "cocalc": {
     "description": "Python 3 programming language",
     "priority": 100,
     "url": "https://www.python.org/"
    }
   },
   "name": "python3",
   "resource_dir": "/ext/jupyter/kernels/python3"
  },
  "language_info": {
   "codemirror_mode": {
    "name": "ipython",
    "version": 3
   },
   "file_extension": ".py",
   "mimetype": "text/x-python",
   "name": "python",
   "nbconvert_exporter": "python",
   "pygments_lexer": "ipython3",
   "version": "3.10.12"
  }
 },
 "nbformat": 4,
 "nbformat_minor": 4
}