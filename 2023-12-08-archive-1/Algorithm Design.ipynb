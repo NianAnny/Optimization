{
 "cells": [
  {
   "cell_type": "code",
   "execution_count": 10,
   "metadata": {
    "collapsed": false
   },
   "outputs": [
    {
     "name": "stdout",
     "output_type": "stream",
     "text": [
      "0 -> 0 : 0.0\n",
      "0 -> 1 : 8.99999999994716\n",
      "0 -> 2 : 6.916588536714144e-12\n",
      "0 -> 3 : 7.99999999987381\n",
      "0 -> 4 : 7.687985069034605e-12\n",
      "0 -> 5 : 1.9687712534543505e-12\n",
      "1 -> 0 : 0.0\n",
      "1 -> 1 : 0.0\n",
      "1 -> 2 : 3.5472356065659434\n",
      "1 -> 3 : 0.0\n",
      "1 -> 4 : 5.4527643933266265\n",
      "1 -> 5 : 0.0\n",
      "2 -> 0 : 0.0\n",
      "2 -> 1 : 1.2432458541881255e-12\n",
      "2 -> 2 : 0.0\n",
      "2 -> 3 : 3.7142698407664946e-13\n",
      "2 -> 4 : 0.0\n",
      "2 -> 5 : 7.865284574711774\n",
      "3 -> 0 : 0.0\n",
      "3 -> 1 : 9.525569074992042e-13\n",
      "3 -> 2 : 4.318048968172226\n",
      "3 -> 3 : 0.0\n",
      "3 -> 4 : 3.6819510317017827\n",
      "3 -> 5 : 0.0\n",
      "4 -> 0 : 0.0\n",
      "4 -> 1 : 2.282822263974664e-12\n",
      "4 -> 2 : 4.381778790938451e-13\n",
      "4 -> 3 : 9.12900084271929e-13\n",
      "4 -> 4 : 0.0\n",
      "4 -> 5 : 9.134715425019861\n",
      "5 -> 0 : 0.0\n",
      "5 -> 1 : 3.919912151603024e-12\n",
      "5 -> 2 : 6.916588536714144e-12\n",
      "5 -> 3 : 6.004010755410931e-12\n",
      "5 -> 4 : 7.687985069034605e-12\n",
      "5 -> 5 : 1.9687712534543505e-12\n",
      "Total Delivered: 16.99999999973557\n"
     ]
    }
   ],
   "source": [
    "import cvxpy as cp\n",
    "import numpy as np\n",
    "\n",
    "A = [[0,9,0,8,0,0],[0,0,5,0,7,0],[0,0,0,0,0,10],[0,0,10,0,7,0],[0,0,0,0,0,12],[0,0,0,0,0,0]]\n",
    "\n",
    "x = cp.Variable((6,6),pos = True)\n",
    "\n",
    "constraints = []\n",
    "\n",
    "for i in range(len(A)):\n",
    "    for j in range(len(A[0])):\n",
    "        constraints += [x[i,j] <= A[i][j]]\n",
    "        \n",
    "for i in range(1,len(A)-1):\n",
    "    constraints += [cp.sum([x[i,j] for j in range(len(A))]) <= cp.sum([x[j,i] for j in range(len(A))])]\n",
    "        \n",
    "objective = cp.Maximize(cp.sum([x[i,5] for i in range(len(A))]))\n",
    "\n",
    "prob = cp.Problem(objective,constraints)\n",
    "\n",
    "result = prob.solve()\n",
    "[[print(j,\"->\",i,\":\",x[j][i].value) for i in range(len(A))] for j in range(len(A))]\n",
    "print(\"Total Delivered:\",result)"
   ]
  },
  {
   "cell_type": "code",
   "execution_count": 19,
   "metadata": {
    "collapsed": false
   },
   "outputs": [
    {
     "name": "stdout",
     "output_type": "stream",
     "text": [
      "[99983, 9, 0, 8, 0, 0]\n",
      "[99983, 0, 5, 8, 4, 0]\n",
      "[99983, 0, 10, 0, 7, 0]\n",
      "[99983, 0, 0, 0, 7, 10]\n",
      "[99983, 0, 0, 0, 0, 17]\n"
     ]
    }
   ],
   "source": [
    "supply = [100000,0,0,0,0,0]\n",
    "maxOut = [sum(row) for row in A]\n",
    "maxOut[5] = 10000\n",
    "\n",
    "# loop through cities. In this loop j is the source city and i is the destination\n",
    "for j in [0,1,3,2,4]:\n",
    "    for i in [1,3,2,4,5]:\n",
    "        \n",
    "        send = min([A[j][i],supply[j],maxOut[i] - supply[i]]) # send the max along an arc you can until you run out of supply\n",
    "        \n",
    "        # subtract sent amount from source city and add it to destination city\n",
    "        supply[j] = supply[j] - send\n",
    "        supply[i] = supply[i] + send\n",
    "        \n",
    "    print(supply)"
   ]
  },
  {
   "cell_type": "code",
   "execution_count": 1,
   "metadata": {
    "collapsed": false
   },
   "outputs": [
    {
     "name": "stdout",
     "output_type": "stream",
     "text": [
      "0 -> 0 : 0.0\n",
      "0 -> 1 : 8.99999999994716\n",
      "0 -> 2 : 6.916588536714144e-12\n",
      "0 -> 3 : 7.99999999987381\n",
      "0 -> 4 : 7.687985069034605e-12\n",
      "0 -> 5 : 1.9687712534543505e-12\n",
      "1 -> 0 : 0.0\n",
      "1 -> 1 : 0.0\n",
      "1 -> 2 : 3.5472356065659434\n",
      "1 -> 3 : 0.0\n",
      "1 -> 4 : 5.4527643933266265\n",
      "1 -> 5 : 0.0\n",
      "2 -> 0 : 0.0\n",
      "2 -> 1 : 1.2432458541881255e-12\n",
      "2 -> 2 : 0.0\n",
      "2 -> 3 : 3.7142698407664946e-13\n",
      "2 -> 4 : 0.0\n",
      "2 -> 5 : 7.865284574711774\n",
      "3 -> 0 : 0.0\n",
      "3 -> 1 : 9.525569074992042e-13\n",
      "3 -> 2 : 4.318048968172226\n",
      "3 -> 3 : 0.0\n",
      "3 -> 4 : 3.6819510317017827\n",
      "3 -> 5 : 0.0\n",
      "4 -> 0 : 0.0\n",
      "4 -> 1 : 2.282822263974664e-12\n",
      "4 -> 2 : 4.381778790938451e-13\n",
      "4 -> 3 : 9.12900084271929e-13\n",
      "4 -> 4 : 0.0\n",
      "4 -> 5 : 9.134715425019861\n",
      "5 -> 0 : 0.0\n",
      "5 -> 1 : 3.919912151603024e-12\n",
      "5 -> 2 : 6.916588536714144e-12\n",
      "5 -> 3 : 6.004010755410931e-12\n",
      "5 -> 4 : 7.687985069034605e-12\n",
      "5 -> 5 : 1.9687712534543505e-12\n",
      "Total Delivered: 16.99999999973557\n"
     ]
    }
   ],
   "source": [
    "maxOut = [sum(row) for row in A]"
   ]
  },
  {
   "cell_type": "code",
   "execution_count": 16,
   "metadata": {
    "collapsed": false
   },
   "outputs": [
    {
     "data": {
      "text/plain": [
       "[17, 12, 10, 17, 12, 0]"
      ]
     },
     "execution_count": 16,
     "metadata": {
     },
     "output_type": "execute_result"
    }
   ],
   "source": [
    "maxOut"
   ]
  },
  {
   "cell_type": "code",
   "execution_count": 0,
   "metadata": {
    "collapsed": false
   },
   "outputs": [
   ],
   "source": [
   ]
  }
 ],
 "metadata": {
  "kernelspec": {
   "argv": [
    "sage-10.0",
    "--python",
    "-m",
    "sage.repl.ipython_kernel",
    "--matplotlib=inline",
    "-f",
    "{connection_file}"
   ],
   "display_name": "SageMath 10.0",
   "env": {
   },
   "language": "sagemath",
   "metadata": {
    "cocalc": {
     "description": "Open-source mathematical software system",
     "priority": 1,
     "url": "https://www.sagemath.org/"
    }
   },
   "name": "sage-10.0",
   "resource_dir": "/ext/jupyter/kernels/sage-10.0"
  },
  "language_info": {
   "codemirror_mode": {
    "name": "ipython",
    "version": 3
   },
   "file_extension": ".py",
   "mimetype": "text/x-python",
   "name": "python",
   "nbconvert_exporter": "python",
   "pygments_lexer": "ipython3",
   "version": "3.11.1"
  }
 },
 "nbformat": 4,
 "nbformat_minor": 4
}