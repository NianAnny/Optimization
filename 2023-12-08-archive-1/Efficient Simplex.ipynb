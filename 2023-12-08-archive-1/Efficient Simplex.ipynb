{
 "cells": [
  {
   "cell_type": "code",
   "execution_count": 7,
   "metadata": {
    "collapsed": false
   },
   "outputs": [
    {
     "name": "stdout",
     "output_type": "stream",
     "text": [
      "[10. 20.]\n",
      "[60. 62.]\n"
     ]
    }
   ],
   "source": [
    "import numpy as np\n",
    "\n",
    "A = np.array([[2, -1, 1, 0],\n",
    "              [2, 1, 0, 1]])\n",
    "\n",
    "C = np.array([3, 2, 0, 0])\n",
    "\n",
    "b = np.array([6,10])\n",
    "\n",
    "basicVars = [2,3]\n",
    "nonbasicVars = [0,1]\n",
    "\n",
    "\n",
    "B = A[:,basicVars]\n",
    "N = A[:,nonbasicVars]\n",
    "\n",
    "cB = c[basicVars]\n",
    "cN = c[nonbasicVars]\n",
    "\n",
    "y = np.linalg.solve(np.transpose(B),cB)\n",
    "print(y)\n",
    "\n",
    "cNbar = cN - np.transpose(y) @ N\n",
    "print(cNbar)"
   ]
  },
  {
   "cell_type": "code",
   "execution_count": 8,
   "metadata": {
    "collapsed": false
   },
   "outputs": [
    {
     "name": "stdout",
     "output_type": "stream",
     "text": [
      "[-2. -2.]\n",
      "[0.16666667 0.16666667]\n"
     ]
    }
   ],
   "source": [
    "entering = 0\n",
    "dB = np.linalg.solve(B,-A[:,entering])\n",
    "print(dB)\n",
    "\n",
    "ratios = -xB / dB\n",
    "print(ratios)"
   ]
  },
  {
   "cell_type": "code",
   "execution_count": 8,
   "metadata": {
    "collapsed": false
   },
   "outputs": [
    {
     "data": {
      "text/plain": [
       "array([0.33333333, 0.33333333])"
      ]
     },
     "execution_count": 8,
     "metadata": {
     },
     "output_type": "execute_result"
    }
   ],
   "source": [
    "A = np.array([[4,2],[6,6]])\n",
    "b = np.array([2,4])\n",
    "np.linalg.solve(A,b)"
   ]
  },
  {
   "cell_type": "code",
   "execution_count": 0,
   "metadata": {
    "collapsed": false
   },
   "outputs": [
   ],
   "source": [
   ]
  }
 ],
 "metadata": {
  "kernelspec": {
   "argv": [
    "sage-10.1",
    "--python",
    "-m",
    "sage.repl.ipython_kernel",
    "--matplotlib=inline",
    "-f",
    "{connection_file}"
   ],
   "display_name": "SageMath 10.1",
   "env": {
   },
   "language": "sagemath",
   "metadata": {
    "cocalc": {
     "description": "Open-source mathematical software system",
     "priority": 10,
     "url": "https://www.sagemath.org/"
    }
   },
   "name": "sage-10.1",
   "resource_dir": "/ext/jupyter/kernels/sage-10.1"
  },
  "language_info": {
   "codemirror_mode": {
    "name": "ipython",
    "version": 3
   },
   "file_extension": ".py",
   "mimetype": "text/x-python",
   "name": "python",
   "nbconvert_exporter": "python",
   "pygments_lexer": "ipython3",
   "version": "3.11.1"
  }
 },
 "nbformat": 4,
 "nbformat_minor": 4
}