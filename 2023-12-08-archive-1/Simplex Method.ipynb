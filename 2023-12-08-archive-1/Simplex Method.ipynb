{
 "cells": [
  {
   "cell_type": "code",
   "execution_count": 2,
   "metadata": {
    "collapsed": false
   },
   "outputs": [
    {
     "name": "stdout",
     "output_type": "stream",
     "text": [
      "[ 0. -4. -2.] [-1.  6.  6.]\n"
     ]
    }
   ],
   "source": [
    "import numpy as np\n",
    "\n",
    "A = np.array([[4,6,1,0,0],\n",
    "             [2,6,0,1,0],\n",
    "             [0,1,0,0,1]])\n",
    "\n",
    "b = np.array([120,72,10])\n",
    "\n",
    "c = np.array([2,4,0,0,0])\n",
    "\n",
    "basis = [1,2,3] # current basis (y,s1,s2)\n",
    "\n",
    "B = A[:,basis]\n",
    "\n",
    "# x-simplex direction\n",
    "dx = np.linalg.solve(B,-A[:,0])\n",
    "\n",
    "# s3-simplex direction\n",
    "ds3 = np.linalg.solve(B,-A[:,4])\n",
    "\n",
    "print(dx,ds3)"
   ]
  },
  {
   "cell_type": "code",
   "execution_count": 0,
   "metadata": {
    "collapsed": false
   },
   "outputs": [
   ],
   "source": [
   ]
  },
  {
   "cell_type": "code",
   "execution_count": 5,
   "metadata": {
    "collapsed": false
   },
   "outputs": [
    {
     "name": "stdout",
     "output_type": "stream",
     "text": [
      "2.0\n",
      "-4.0\n"
     ]
    }
   ],
   "source": [
    "# check if dx is improving\n",
    "dxFull = np.array([1,dx[0],dx[1],dx[2],0])\n",
    "ds3Full = np.array([0,ds3[0],dx[1],dx[2],1])\n",
    "\n",
    "print(np.dot(c,dxFull)) # introducing x improves the objective\n",
    "print(np.dot(c,ds3Full))"
   ]
  },
  {
   "cell_type": "code",
   "execution_count": 1,
   "metadata": {
    "collapsed": false
   },
   "outputs": [
    {
     "ename": "NameError",
     "evalue": "name 'dx' is not defined",
     "output_type": "error",
     "traceback": [
      "\u001b[0;31m---------------------------------------------------------------------------\u001b[0m",
      "\u001b[0;31mNameError\u001b[0m                                 Traceback (most recent call last)",
      "Cell \u001b[0;32mIn [1], line 3\u001b[0m\n\u001b[1;32m      1\u001b[0m \u001b[38;5;66;03m# choose x as the simplex direction, use ratio test to choose stepsize\u001b[39;00m\n\u001b[1;32m      2\u001b[0m xB \u001b[38;5;241m=\u001b[39m [Integer(\u001b[38;5;241m10\u001b[39m),Integer(\u001b[38;5;241m60\u001b[39m),Integer(\u001b[38;5;241m12\u001b[39m)]\n\u001b[0;32m----> 3\u001b[0m l \u001b[38;5;241m=\u001b[39m \u001b[38;5;28mmin\u001b[39m(\u001b[43m[\u001b[49m\u001b[38;5;241;43m-\u001b[39;49m\u001b[43mxB\u001b[49m\u001b[43m[\u001b[49m\u001b[43mi\u001b[49m\u001b[38;5;241;43m+\u001b[39;49m\u001b[43mInteger\u001b[49m\u001b[43m(\u001b[49m\u001b[38;5;241;43m1\u001b[39;49m\u001b[43m)\u001b[49m\u001b[43m]\u001b[49m\u001b[38;5;241;43m/\u001b[39;49m\u001b[43mdx\u001b[49m\u001b[43m[\u001b[49m\u001b[43mi\u001b[49m\u001b[38;5;241;43m+\u001b[39;49m\u001b[43mInteger\u001b[49m\u001b[43m(\u001b[49m\u001b[38;5;241;43m1\u001b[39;49m\u001b[43m)\u001b[49m\u001b[43m]\u001b[49m\u001b[43m \u001b[49m\u001b[38;5;28;43;01mfor\u001b[39;49;00m\u001b[43m \u001b[49m\u001b[43mi\u001b[49m\u001b[43m \u001b[49m\u001b[38;5;129;43;01min\u001b[39;49;00m\u001b[43m \u001b[49m\u001b[38;5;28;43mrange\u001b[39;49m\u001b[43m(\u001b[49m\u001b[43mInteger\u001b[49m\u001b[43m(\u001b[49m\u001b[38;5;241;43m2\u001b[39;49m\u001b[43m)\u001b[49m\u001b[43m)\u001b[49m\u001b[43m]\u001b[49m)\n\u001b[1;32m      4\u001b[0m \u001b[38;5;28mprint\u001b[39m(l)\n",
      "Cell \u001b[0;32mIn [1], line 3\u001b[0m, in \u001b[0;36m<listcomp>\u001b[0;34m(.0)\u001b[0m\n\u001b[1;32m      1\u001b[0m \u001b[38;5;66;03m# choose x as the simplex direction, use ratio test to choose stepsize\u001b[39;00m\n\u001b[1;32m      2\u001b[0m xB \u001b[38;5;241m=\u001b[39m [Integer(\u001b[38;5;241m10\u001b[39m),Integer(\u001b[38;5;241m60\u001b[39m),Integer(\u001b[38;5;241m12\u001b[39m)]\n\u001b[0;32m----> 3\u001b[0m l \u001b[38;5;241m=\u001b[39m \u001b[38;5;28mmin\u001b[39m([\u001b[38;5;241m-\u001b[39mxB[i\u001b[38;5;241m+\u001b[39mInteger(\u001b[38;5;241m1\u001b[39m)]\u001b[38;5;241m/\u001b[39m\u001b[43mdx\u001b[49m[i\u001b[38;5;241m+\u001b[39mInteger(\u001b[38;5;241m1\u001b[39m)] \u001b[38;5;28;01mfor\u001b[39;00m i \u001b[38;5;129;01min\u001b[39;00m \u001b[38;5;28mrange\u001b[39m(Integer(\u001b[38;5;241m2\u001b[39m))])\n\u001b[1;32m      4\u001b[0m \u001b[38;5;28mprint\u001b[39m(l)\n",
      "\u001b[0;31mNameError\u001b[0m: name 'dx' is not defined"
     ]
    }
   ],
   "source": [
    "# choose x as the simplex direction, use ratio test to choose stepsize\n",
    "xB = [10,60,12]\n",
    "l = min([-xB[i+1]/dx[i+1] for i in range(2)])\n",
    "print(l)"
   ]
  },
  {
   "cell_type": "code",
   "execution_count": 7,
   "metadata": {
    "collapsed": false
   },
   "outputs": [
    {
     "data": {
      "text/plain": [
       "array([ 0., -4., -2.])"
      ]
     },
     "execution_count": 7,
     "metadata": {
     },
     "output_type": "execute_result"
    }
   ],
   "source": [
    "dx"
   ]
  },
  {
   "cell_type": "code",
   "execution_count": 0,
   "metadata": {
    "collapsed": false
   },
   "outputs": [
   ],
   "source": [
   ]
  }
 ],
 "metadata": {
  "kernelspec": {
   "argv": [
    "sage-10.1",
    "--python",
    "-m",
    "sage.repl.ipython_kernel",
    "--matplotlib=inline",
    "-f",
    "{connection_file}"
   ],
   "display_name": "SageMath 10.1",
   "env": {
   },
   "language": "sagemath",
   "metadata": {
    "cocalc": {
     "description": "Open-source mathematical software system",
     "priority": 10,
     "url": "https://www.sagemath.org/"
    }
   },
   "name": "sage-10.1",
   "resource_dir": "/ext/jupyter/kernels/sage-10.1"
  },
  "language_info": {
   "codemirror_mode": {
    "name": "ipython",
    "version": 3
   },
   "file_extension": ".py",
   "mimetype": "text/x-python",
   "name": "python",
   "nbconvert_exporter": "python",
   "pygments_lexer": "ipython3",
   "version": "3.11.1"
  }
 },
 "nbformat": 4,
 "nbformat_minor": 4
}