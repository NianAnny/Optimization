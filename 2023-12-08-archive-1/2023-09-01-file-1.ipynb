{
 "cells": [
  {
   "cell_type": "markdown",
   "metadata": {
    "collapsed": false
   },
   "source": [
   ]
  },
  {
   "cell_type": "code",
   "execution_count": 0,
   "metadata": {
    "collapsed": false
   },
   "outputs": [
   ],
   "source": [
   ]
  },
  {
   "cell_type": "markdown",
   "metadata": {
    "collapsed": false
   },
   "source": [
    "Ice Queen is a small company that manufactures hockey sticks and chess sets. Each hockey stick and chess set must be processed through some or all of their machine centers. How many hockey sticks and how many chess sets should they make per day to maximize profit.\n",
    "\n",
    "Every hockey stick requires four hours of processing in Machine Center A and two hours at Machine Center B. Every chess set requires six hours of processing at Machine Center A, 6 hours at Machine Center B, and one hour at Machine Center C.\n",
    "\n",
    "Machine Center A has 120 available hours, B has 72 hours, and C has 10 hours. A hockey stick sells at a profit of $2 per stick, and a chess set sells at $4 per set.\n",
    "\n"
   ]
  },
  {
   "cell_type": "code",
   "execution_count": 3,
   "metadata": {
    "collapsed": false,
    "scrolled": true
   },
   "outputs": [
    {
     "name": "stdout",
     "output_type": "stream",
     "text": [
      "(CVXPY) Sep 07 04:31:31 AM: Encountered unexpected exception importing solver GLOP:\n",
      "RuntimeError('Unrecognized new version of ortools (9.7.2996). Expected < 9.5.0.Please open a feature request on cvxpy to enable support for this version.')\n"
     ]
    },
    {
     "name": "stdout",
     "output_type": "stream",
     "text": [
      "(CVXPY) Sep 07 04:31:31 AM: Encountered unexpected exception importing solver PDLP:\n",
      "RuntimeError('Unrecognized new version of ortools (9.7.2996). Expected < 9.5.0.Please open a feature request on cvxpy to enable support for this version.')\n"
     ]
    }
   ],
   "source": [
    "# first cell in a notebook should usually be loading up the packages you will use\n",
    "import cvxpy as cp\n",
    "import numpy as np"
   ]
  },
  {
   "cell_type": "code",
   "execution_count": 4,
   "metadata": {
    "collapsed": false
   },
   "outputs": [
    {
     "name": "stdout",
     "output_type": "stream",
     "text": [
      "Optimal number of hockey sticks: 23.999999987295627\n",
      "Optimal number of chess sets: 4.000000006673474\n",
      "Daily profit: 64.00000000128514\n"
     ]
    }
   ],
   "source": [
    "# define decision variables\n",
    "hockey = cp.Variable()\n",
    "chess = cp.Variable()\n",
    "\n",
    "# define the objective\n",
    "objective = cp.Maximize(2*hockey + 4*chess)\n",
    "\n",
    "# set the constraints\n",
    "constraints = [\n",
    "    4*hockey + 6*chess <= 120, # machine center A\n",
    "    2*hockey + 6*chess <= 72, # machine center B\n",
    "    chess <= 10 # machine center C\n",
    "]\n",
    "\n",
    "# define the linear program\n",
    "prob = cp.Problem(objective,constraints)\n",
    "\n",
    "# solve the linear program\n",
    "result = prob.solve()\n",
    "                                                                                                                                      \n",
    "print(\"Optimal number of hockey sticks:\",hockey.value)\n",
    "print(\"Optimal number of chess sets:\",chess.value)\n",
    "print(\"Daily profit:\",result)"
   ]
  },
  {
   "cell_type": "code",
   "execution_count": 0,
   "metadata": {
    "collapsed": false
   },
   "outputs": [
   ],
   "source": [
   ]
  },
  {
   "cell_type": "code",
   "execution_count": 0,
   "metadata": {
    "collapsed": false
   },
   "outputs": [
   ],
   "source": [
   ]
  },
  {
   "cell_type": "markdown",
   "metadata": {
    "collapsed": false
   },
   "source": [
    "A small brewery produces ale and beer. Production is limited by the availability of resources.\n",
    "\n",
    "A barrel of ale uses 5 lbs of corn, 4 oz of hops, and 35 lbs of malt. It sells for a profit of $13.\n",
    "A barrel of beer uses 15 lbs of corn, 4 oz of hops, and 20 lbs of malt. It sells for a profit of $23.\n",
    "\n",
    "We have 480 lbs of corn, 160 oz of hops, and 1190 lbs of malt available. How much of each drink should we produce to maximize profit? \n",
    "\n"
   ]
  },
  {
   "cell_type": "code",
   "execution_count": 30,
   "metadata": {
    "collapsed": false
   },
   "outputs": [
    {
     "name": "stdout",
     "output_type": "stream",
     "text": [
      "Maximum profit:  800.0000000870648\n",
      "Optimal amount of ale:  11.999999990549611\n",
      "Optimal amount of beer:  28.000000009126946\n"
     ]
    }
   ],
   "source": [
    "#Anny, Carissa, Liam, Spencer\n",
    "\n",
    "# import packages\n",
    "import cvxpy as cp\n",
    "import numpy as np\n",
    "\n",
    "# initialize variables\n",
    "A = cp.Variable()\n",
    "B = cp.Variable()\n",
    "\n",
    "\n",
    "# define the objective\n",
    "obj = cp.Maximize(13*A+23*B)\n",
    "\n",
    "#define the constraints\n",
    "constraints1 = [\n",
    "    5*A + 15*B <= 480,# corn\n",
    "    4*A + 4*B <= 160, # hops\n",
    "    35*A + 20*B <= 1190 # malt\n",
    "    ]\n",
    "\n",
    "\n",
    "# define the linear program\n",
    "prob = cp.Problem(obj, constraints1)\n",
    "\n",
    "# solve the linear program\n",
    "result1 = prob.solve()\n",
    "\n",
    "print(\"Maximum profit: \", result1)\n",
    "print(\"Optimal amount of ale: \", A.value)\n",
    "print(\"Optimal amount of beer: \", B.value)"
   ]
  },
  {
   "cell_type": "code",
   "execution_count": 27,
   "metadata": {
    "collapsed": false
   },
   "outputs": [
    {
     "name": "stdout",
     "output_type": "stream",
     "text": [
      "800.0000000870648\n",
      "11.999999990549611\n",
      "28.000000009126946\n"
     ]
    }
   ],
   "source": [
    "# Branson, Delaney, Jiafeng, Rohan\n",
    "\n",
    "import cvxpy as cp\n",
    "import numpy as np\n",
    "\n",
    "# Initialize variables\n",
    "A = cp.Variable()\n",
    "B = cp.Variable()\n",
    "\n",
    "# Form objective.\n",
    "obj = cp.Maximize(13*A + 23*B)\n",
    "\n",
    "\n",
    "\n",
    "\n",
    "# Create constraints\n",
    "constraints = [5*A + 15*B <= 480,\n",
    "               4*A + 4*B <= 160,\n",
    "               35*A + 20*B <= 1190]\n",
    "\n",
    "# define the linear program\n",
    "prob = cp.Problem(obj,constraints)\n",
    "\n",
    "[]# solve the linear program\n",
    "result = prob.solve()\n",
    "\n",
    "\n",
    "\n",
    "\n",
    "print(result)\n",
    "print(A.value)\n",
    "print(B.value)"
   ]
  },
  {
   "cell_type": "code",
   "execution_count": 0,
   "metadata": {
    "collapsed": false
   },
   "outputs": [
   ],
   "source": [
   ]
  },
  {
   "cell_type": "code",
   "execution_count": 28,
   "metadata": {
    "collapsed": false
   },
   "outputs": [
    {
     "name": "stdout",
     "output_type": "stream",
     "text": [
      "We make 11.999999990549611 of ale and 28.000000009126946 of beer and sell it for 800.0000000870648\n"
     ]
    }
   ],
   "source": [
    "# Alex, Julia, Tristan\n",
    "\n",
    "a = cp.Variable()\n",
    "b = cp.Variable()\n",
    "objfn = cp.Maximize(13*a + 23*b)\n",
    "constaints = [5*a + 15*b <= 480, 4*a + 4*b <= 160, 35*a + 20*b <= 1190]\n",
    "\n",
    "prob = cp.Problem(objfn, constaints)\n",
    "res= prob.solve()\n",
    "print(f'We make {a.value} of ale and {b.value} of beer and sell it for {res}')"
   ]
  },
  {
   "cell_type": "code",
   "execution_count": 0,
   "metadata": {
    "collapsed": false
   },
   "outputs": [
   ],
   "source": [
   ]
  },
  {
   "cell_type": "code",
   "execution_count": 31,
   "metadata": {
    "collapsed": false
   },
   "outputs": [
    {
     "name": "stdout",
     "output_type": "stream",
     "text": [
      "Ale : 11.999999990549611\n",
      "Beer : 28.000000009126946\n",
      "Profit: 800.0000000870648\n"
     ]
    }
   ],
   "source": [
    "# A generic constrained material problem:\n",
    "products = [\"Ale\",\"Beer\"]\n",
    "ingredients = [\"Corn\",\"Hops\",\"Malt\"]\n",
    "profit = [13,23]\n",
    "recipe = [[5,4,35],[15,4,20]]\n",
    "limits = [480,160,1190]\n",
    "\n",
    "x = cp.Variable(len(products))\n",
    "objective = cp.Maximize(cp.sum([profit[i] * x[i] for i in range(len(products))]))\n",
    "constraints = [cp.sum([recipe[i][j]*x[i] for i in range(len(products))])<= limits[j] for j in range(len(ingredients))]\n",
    "\n",
    "prob = cp.Problem(objective,constraints)\n",
    "\n",
    "result = prob.solve()\n",
    "[print(products[i],\":\",x[i].value) for i in range(len(products))]\n",
    "print(\"Profit:\",result)"
   ]
  },
  {
   "cell_type": "code",
   "execution_count": 0,
   "metadata": {
    "collapsed": false
   },
   "outputs": [
   ],
   "source": [
   ]
  },
  {
   "cell_type": "code",
   "execution_count": 0,
   "metadata": {
    "collapsed": false
   },
   "outputs": [
   ],
   "source": [
   ]
  }
 ],
 "metadata": {
  "kernelspec": {
   "argv": [
    "/usr/bin/python3",
    "-m",
    "ipykernel",
    "--HistoryManager.enabled=False",
    "--matplotlib=inline",
    "-c",
    "%config InlineBackend.figure_formats = set(['retina'])\nimport matplotlib; matplotlib.rcParams['figure.figsize'] = (12, 7)",
    "-f",
    "{connection_file}"
   ],
   "display_name": "Python 3 (system-wide)",
   "env": {
   },
   "language": "python",
   "metadata": {
    "cocalc": {
     "description": "Python 3 programming language",
     "priority": 100,
     "url": "https://www.python.org/"
    }
   },
   "name": "python3",
   "resource_dir": "/ext/jupyter/kernels/python3"
  },
  "language_info": {
   "codemirror_mode": {
    "name": "ipython",
    "version": 3
   },
   "file_extension": ".py",
   "mimetype": "text/x-python",
   "name": "python",
   "nbconvert_exporter": "python",
   "pygments_lexer": "ipython3",
   "version": "3.10.12"
  }
 },
 "nbformat": 4,
 "nbformat_minor": 4
}